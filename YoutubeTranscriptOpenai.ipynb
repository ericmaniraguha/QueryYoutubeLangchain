{
  "nbformat": 4,
  "nbformat_minor": 0,
  "metadata": {
    "colab": {
      "provenance": [],
      "authorship_tag": "ABX9TyNiDouQIHnJwHcD/CWsO/Dz",
      "include_colab_link": true
    },
    "kernelspec": {
      "name": "python3",
      "display_name": "Python 3"
    },
    "language_info": {
      "name": "python"
    }
  },
  "cells": [
    {
      "cell_type": "markdown",
      "metadata": {
        "id": "view-in-github",
        "colab_type": "text"
      },
      "source": [
        "<a href=\"https://colab.research.google.com/github/ericmaniraguha/QueryYoutubeLangchain/blob/main/YoutubeTranscriptOpenai.ipynb\" target=\"_parent\"><img src=\"https://colab.research.google.com/assets/colab-badge.svg\" alt=\"Open In Colab\"/></a>"
      ]
    },
    {
      "cell_type": "markdown",
      "source": [
        "This document outlines a straightforward process for utilizing Lanchain and YouTubeTranscriptOpenai to enhance documentation. It involves creating diagrams with Lanchain and extracting YouTube video transcripts with YouTubeTranscriptOpenai. The steps include installing Lanchain, obtaining API keys, creating diagrams, integrating them into the document, using YouTubeTranscriptOpenai for transcript generation, and incorporating the transcript into the document. The goal is to combine visualizations and textual content from YouTube videos for more comprehensive documentation."
      ],
      "metadata": {
        "id": "JYE9dX0hjYWu"
      }
    },
    {
      "cell_type": "code",
      "source": [
        "# Installing the langchain module using pip, suppressing output with the -q flag\n",
        "!pip install langchain -q\n",
        "\n",
        "# Installing the youtube-transcript-api module using pip, suppressing output with the -q flag\n",
        "!pip install youtube-transcript-api -q\n",
        "\n",
        "# Installing the pytube module using pip, suppressing output with the -q flag\n",
        "!pip install pytube -q\n",
        "\n",
        "\n"
      ],
      "metadata": {
        "colab": {
          "base_uri": "https://localhost:8080/"
        },
        "id": "jmHVzcu7m_D0",
        "outputId": "a89724a8-d712-46e1-8379-a08c113c21b9"
      },
      "execution_count": 4,
      "outputs": [
        {
          "output_type": "stream",
          "name": "stdout",
          "text": [
            "\u001b[?25l     \u001b[90m━━━━━━━━━━━━━━━━━━━━━━━━━━━━━━━━━━━━━━━━\u001b[0m \u001b[32m0.0/57.6 kB\u001b[0m \u001b[31m?\u001b[0m eta \u001b[36m-:--:--\u001b[0m\r\u001b[2K     \u001b[90m━━━━━━━━━━━━━━━━━━━━━━━━━━━━━━━━━━━━━━━━\u001b[0m \u001b[32m57.6/57.6 kB\u001b[0m \u001b[31m2.3 MB/s\u001b[0m eta \u001b[36m0:00:00\u001b[0m\n",
            "\u001b[?25h"
          ]
        }
      ]
    },
    {
      "cell_type": "code",
      "execution_count": 55,
      "metadata": {
        "id": "oSkKaHx7iblf"
      },
      "outputs": [],
      "source": [
        "# Importing the YoutubeLoader class from the langchain.document_loaders module\n",
        "from langchain.document_loaders import YoutubeLoader\n",
        "\n",
        "# Importing the OpenAI class from the langchain.llms module\n",
        "from langchain.llms import OpenAI\n",
        "\n",
        "# Importing the load_summarize_chain function from the langchain.chains.summarize module\n",
        "from langchain.chains.summarize import load_summarize_chain\n",
        "\n"
      ]
    },
    {
      "cell_type": "code",
      "source": [
        "# Setting the OpenAI API key as an environment variable for authentication\n",
        "OPENAI_API_KEY = \"\""
      ],
      "metadata": {
        "id": "ntnun0odnlhz"
      },
      "execution_count": 46,
      "outputs": []
    },
    {
      "cell_type": "markdown",
      "source": [
        "## 1. Simple Video"
      ],
      "metadata": {
        "id": "5h0gy5E1nfHk"
      }
    },
    {
      "cell_type": "code",
      "source": [
        "# Loading information from a YouTube video using the YoutubeLoader\n",
        "# The from_youtube_url method is used to create an instance of the YoutubeLoader\n",
        "# The URL \"https://www.youtube.com/watch?v=uQKGsvLH_Rw\" is provided, and add_video_info is set to True\n",
        "loader = YoutubeLoader.from_youtube_url(\"https://www.youtube.com/watch?v=uQKGsvLH_Rw\", add_video_info=True)\n"
      ],
      "metadata": {
        "id": "n8Wb4SyUlpWd"
      },
      "execution_count": 7,
      "outputs": []
    },
    {
      "cell_type": "code",
      "source": [
        "# Loading information from the YouTube video using the loader instance created earlier\n",
        "# The load method is called to retrieve data such as video transcript and additional information\n",
        "result = loader.load()\n",
        "result"
      ],
      "metadata": {
        "colab": {
          "base_uri": "https://localhost:8080/"
        },
        "id": "J-tbvZAvn9p-",
        "outputId": "16b7219f-5efd-4403-e086-2cdc39971a70"
      },
      "execution_count": 12,
      "outputs": [
        {
          "output_type": "execute_result",
          "data": {
            "text/plain": [
              "[Document(page_content=\"LADIES AND GENTLEMEN, BAD BUNNY! [ CHEERS AND APPLAUSE ] >>> THANK YOU, THANK YOU, THANK YOU VERY MUCH. MY NAME IS BENITO, AND I'M VERY EXCITED TO BE HERE ON -- SABADO GIGANTE OH, SORRY. SNL, SNL. PEOPLE ARE WONDERING IF I CAN HOST THIS SHOW BECAUSE ENGLISH IS NOT MY FIRST LANGUAGE. I DON'T KNOW IF THEY KNOW, BUT I DO WHATEVER I WANT. [ CHEERS AND APPLAUSE ] YEAH. SO I CAN HOST THIS SHOW IN ENGLISH. I CAN ORDER McDONALD'S IN ENGLISH. I CAN HAVE SEX IN ENGLISH. YEAH. BUT I PREFER SEX IN SPANISH BECAUSE IT'S JUST BETTER. I JUST PREFER SPANISH, YOU KNOW. YOU KNOW OKAY. OKAY. WHOA, WHOA, WHOA. NOT AGAIN, PLEASE. NOT AGAIN. [ SPEAKING SPANISH ] EXCUSE ME. CAN WE CHANGE THAT? CAN WE DO IT RIGHT? THANK YOU. NOW, MUCH BETTER. THANK YOU. YOU KNOW WHAT, I DON'T TRUST ON THIS THING. SO I WANT TO BRING UP MY FRIEND TO HELP. PEDRO. [ CHEERS AND APPLAUSE ] >> SO YOU -- YOU WANT ME TO -- DO YOU WANT ME TO TRANSLATE? >> WHAT? >> YOU WANT ME TO TRANSLATE? >> YES. >> OKAY. HE SAYS I'M BLESSED TO BE HERE WITH MY FAVORITE ACTOR, PEDRO PASCAL. [ APPLAUSE ] >> I KNOW WHAT YOU'RE DOING, PEDRO. I KNOW. BUT CAN YOU AT LEAST GIVE ME ADVICE ON MY MONOLOGUE? >> WELL, I DID HOST LAST SEASON. THANK YOU VERY MUCH. AND WHEN YOU'RE DOING A MONOLOGUE, I FIND IT'S ALWAYS CHARMING WHEN YOU MAKE A SELF-DEPRECATING JOKE. >> WHAT DO YOU MEAN? >> OKAY. IT'S LIKE YOU MAKE A JOKE ABOUT A PART OF YOUR BODY OR YOUR FACE THAT'S UNFLATTERING. >> I DON'T HAVE ANY. >> TOTALLY. ME EITHER. YOU KNOW WHAT ELSE WORKS? AUDIENCES LOVE IT WHEN YOU SHOW AN EMBARRASSING PHOTO OF YOURSELF. >> OKAY. I CAN DO THAT. >> I'M SORRY. HOW IS THAT EMBARRASSING? >> BECAUSE I FORGOT TO PUT ON CLOTHES. >> OKAY. THERE'S CLEARLY NOTHING ABOUT YOU TO MAKE FUN OF. WHY DON'T YOU JUST TELL EVERYONE WHAT YOU WANTED TO SAY? >> WELL, I WANT TO SAY I'M VERY GRATEFUL TO BE HERE. THANK YOU TO EVERYONE WHO SUPPORTS ME, AND EVERYONE WHO LISTENS TO MY MUSIC. [ SPEAKING SPANISH ] WE HAVE AN AMAZING SHOW FOR YOU TONIGHT. I'M HERE. STICK AROUND. WE'LL BE RIGHT BACK.\", metadata={'source': 'uQKGsvLH_Rw', 'title': 'Bad Bunny Monologue - SNL', 'description': 'Unknown', 'view_count': 1360241, 'thumbnail_url': 'https://i.ytimg.com/vi/uQKGsvLH_Rw/hq720.jpg', 'publish_date': '2023-10-21 00:00:00', 'length': 292, 'author': 'Saturday Night Live'})]"
            ]
          },
          "metadata": {},
          "execution_count": 12
        }
      ]
    },
    {
      "cell_type": "code",
      "source": [
        "# Printing the type of the 'result' variable to determine its data type\n",
        "print(type(result))"
      ],
      "metadata": {
        "colab": {
          "base_uri": "https://localhost:8080/"
        },
        "id": "XenKwgTPpXlj",
        "outputId": "93bd710a-dd1e-4045-d93a-65579cf01113"
      },
      "execution_count": 15,
      "outputs": [
        {
          "output_type": "stream",
          "name": "stdout",
          "text": [
            "<class 'list'>\n"
          ]
        }
      ]
    },
    {
      "cell_type": "code",
      "source": [
        "# Accessing metadata from the first video in the 'result' list and printing relevant information\n",
        "# The author and length of the video are extracted from the metadata\n",
        "print(f\"Found video from {result[0].metadata['author']} that is {result[0].metadata['length']} seconds long\")\n",
        "\n",
        "# Printing an empty line for better readability\n",
        "print(\"\")\n",
        "\n",
        "# Printing the entire 'result' variable to inspect the available data\n",
        "result\n",
        "# Additional metadata that may be available:\n",
        "# You can access other metadata fields like 'title', 'description', 'views', etc. by using result[0].metadata['field_name']\n",
        "# Example: print(f\"Video title: {result[0].metadata['title']}\")\n",
        "# Example: print(f\"Video description: {result[0].metadata['description']}\")\n",
        "# Example: print(f\"Video views: {result[0].metadata['views']}\")\n",
        "# ...\n",
        "\n"
      ],
      "metadata": {
        "colab": {
          "base_uri": "https://localhost:8080/"
        },
        "id": "t5Fe9AWPoXfs",
        "outputId": "802fc8b0-f374-40c4-97a8-3ddf9c58a536"
      },
      "execution_count": 14,
      "outputs": [
        {
          "output_type": "stream",
          "name": "stdout",
          "text": [
            "<class 'list'>\n",
            "Found video from Saturday Night Live that is 292 seconds long\n",
            "\n"
          ]
        },
        {
          "output_type": "execute_result",
          "data": {
            "text/plain": [
              "[Document(page_content=\"LADIES AND GENTLEMEN, BAD BUNNY! [ CHEERS AND APPLAUSE ] >>> THANK YOU, THANK YOU, THANK YOU VERY MUCH. MY NAME IS BENITO, AND I'M VERY EXCITED TO BE HERE ON -- SABADO GIGANTE OH, SORRY. SNL, SNL. PEOPLE ARE WONDERING IF I CAN HOST THIS SHOW BECAUSE ENGLISH IS NOT MY FIRST LANGUAGE. I DON'T KNOW IF THEY KNOW, BUT I DO WHATEVER I WANT. [ CHEERS AND APPLAUSE ] YEAH. SO I CAN HOST THIS SHOW IN ENGLISH. I CAN ORDER McDONALD'S IN ENGLISH. I CAN HAVE SEX IN ENGLISH. YEAH. BUT I PREFER SEX IN SPANISH BECAUSE IT'S JUST BETTER. I JUST PREFER SPANISH, YOU KNOW. YOU KNOW OKAY. OKAY. WHOA, WHOA, WHOA. NOT AGAIN, PLEASE. NOT AGAIN. [ SPEAKING SPANISH ] EXCUSE ME. CAN WE CHANGE THAT? CAN WE DO IT RIGHT? THANK YOU. NOW, MUCH BETTER. THANK YOU. YOU KNOW WHAT, I DON'T TRUST ON THIS THING. SO I WANT TO BRING UP MY FRIEND TO HELP. PEDRO. [ CHEERS AND APPLAUSE ] >> SO YOU -- YOU WANT ME TO -- DO YOU WANT ME TO TRANSLATE? >> WHAT? >> YOU WANT ME TO TRANSLATE? >> YES. >> OKAY. HE SAYS I'M BLESSED TO BE HERE WITH MY FAVORITE ACTOR, PEDRO PASCAL. [ APPLAUSE ] >> I KNOW WHAT YOU'RE DOING, PEDRO. I KNOW. BUT CAN YOU AT LEAST GIVE ME ADVICE ON MY MONOLOGUE? >> WELL, I DID HOST LAST SEASON. THANK YOU VERY MUCH. AND WHEN YOU'RE DOING A MONOLOGUE, I FIND IT'S ALWAYS CHARMING WHEN YOU MAKE A SELF-DEPRECATING JOKE. >> WHAT DO YOU MEAN? >> OKAY. IT'S LIKE YOU MAKE A JOKE ABOUT A PART OF YOUR BODY OR YOUR FACE THAT'S UNFLATTERING. >> I DON'T HAVE ANY. >> TOTALLY. ME EITHER. YOU KNOW WHAT ELSE WORKS? AUDIENCES LOVE IT WHEN YOU SHOW AN EMBARRASSING PHOTO OF YOURSELF. >> OKAY. I CAN DO THAT. >> I'M SORRY. HOW IS THAT EMBARRASSING? >> BECAUSE I FORGOT TO PUT ON CLOTHES. >> OKAY. THERE'S CLEARLY NOTHING ABOUT YOU TO MAKE FUN OF. WHY DON'T YOU JUST TELL EVERYONE WHAT YOU WANTED TO SAY? >> WELL, I WANT TO SAY I'M VERY GRATEFUL TO BE HERE. THANK YOU TO EVERYONE WHO SUPPORTS ME, AND EVERYONE WHO LISTENS TO MY MUSIC. [ SPEAKING SPANISH ] WE HAVE AN AMAZING SHOW FOR YOU TONIGHT. I'M HERE. STICK AROUND. WE'LL BE RIGHT BACK.\", metadata={'source': 'uQKGsvLH_Rw', 'title': 'Bad Bunny Monologue - SNL', 'description': 'Unknown', 'view_count': 1360241, 'thumbnail_url': 'https://i.ytimg.com/vi/uQKGsvLH_Rw/hq720.jpg', 'publish_date': '2023-10-21 00:00:00', 'length': 292, 'author': 'Saturday Night Live'})]"
            ]
          },
          "metadata": {},
          "execution_count": 14
        }
      ]
    },
    {
      "cell_type": "code",
      "source": [
        "!pip install openai -uQKGsvLH_Rw"
      ],
      "metadata": {
        "colab": {
          "base_uri": "https://localhost:8080/"
        },
        "id": "ZTZdUkqwqRSo",
        "outputId": "26d4b500-84bc-4b1a-d2b6-75e08fbd026b"
      },
      "execution_count": 25,
      "outputs": [
        {
          "output_type": "stream",
          "name": "stdout",
          "text": [
            "Collecting openai\n",
            "  Downloading openai-1.3.5-py3-none-any.whl (220 kB)\n",
            "\u001b[?25l     \u001b[90m━━━━━━━━━━━━━━━━━━━━━━━━━━━━━━━━━━━━━━━━\u001b[0m \u001b[32m0.0/220.8 kB\u001b[0m \u001b[31m?\u001b[0m eta \u001b[36m-:--:--\u001b[0m\r\u001b[2K     \u001b[91m━━━━━━━━━━━━━━━━━━━━\u001b[0m\u001b[90m╺\u001b[0m\u001b[90m━━━━━━━━━━━━━━━━━━━\u001b[0m \u001b[32m112.6/220.8 kB\u001b[0m \u001b[31m3.2 MB/s\u001b[0m eta \u001b[36m0:00:01\u001b[0m\r\u001b[2K     \u001b[90m━━━━━━━━━━━━━━━━━━━━━━━━━━━━━━━━━━━━━━━━\u001b[0m \u001b[32m220.8/220.8 kB\u001b[0m \u001b[31m4.2 MB/s\u001b[0m eta \u001b[36m0:00:00\u001b[0m\n",
            "\u001b[?25hRequirement already satisfied: anyio<4,>=3.5.0 in /usr/local/lib/python3.10/dist-packages (from openai) (3.7.1)\n",
            "Requirement already satisfied: distro<2,>=1.7.0 in /usr/lib/python3/dist-packages (from openai) (1.7.0)\n",
            "Collecting httpx<1,>=0.23.0 (from openai)\n",
            "  Downloading httpx-0.25.2-py3-none-any.whl (74 kB)\n",
            "\u001b[2K     \u001b[90m━━━━━━━━━━━━━━━━━━━━━━━━━━━━━━━━━━━━━━━━\u001b[0m \u001b[32m75.0/75.0 kB\u001b[0m \u001b[31m5.4 MB/s\u001b[0m eta \u001b[36m0:00:00\u001b[0m\n",
            "\u001b[?25hRequirement already satisfied: pydantic<3,>=1.9.0 in /usr/local/lib/python3.10/dist-packages (from openai) (1.10.13)\n",
            "Requirement already satisfied: tqdm>4 in /usr/local/lib/python3.10/dist-packages (from openai) (4.66.1)\n",
            "Requirement already satisfied: typing-extensions<5,>=4.5 in /usr/local/lib/python3.10/dist-packages (from openai) (4.5.0)\n",
            "Requirement already satisfied: idna>=2.8 in /usr/local/lib/python3.10/dist-packages (from anyio<4,>=3.5.0->openai) (3.4)\n",
            "Requirement already satisfied: sniffio>=1.1 in /usr/local/lib/python3.10/dist-packages (from anyio<4,>=3.5.0->openai) (1.3.0)\n",
            "Requirement already satisfied: exceptiongroup in /usr/local/lib/python3.10/dist-packages (from anyio<4,>=3.5.0->openai) (1.1.3)\n",
            "Requirement already satisfied: certifi in /usr/local/lib/python3.10/dist-packages (from httpx<1,>=0.23.0->openai) (2023.7.22)\n",
            "Collecting httpcore==1.* (from httpx<1,>=0.23.0->openai)\n",
            "  Downloading httpcore-1.0.2-py3-none-any.whl (76 kB)\n",
            "\u001b[2K     \u001b[90m━━━━━━━━━━━━━━━━━━━━━━━━━━━━━━━━━━━━━━━━\u001b[0m \u001b[32m76.9/76.9 kB\u001b[0m \u001b[31m9.9 MB/s\u001b[0m eta \u001b[36m0:00:00\u001b[0m\n",
            "\u001b[?25hCollecting h11<0.15,>=0.13 (from httpcore==1.*->httpx<1,>=0.23.0->openai)\n",
            "  Downloading h11-0.14.0-py3-none-any.whl (58 kB)\n",
            "\u001b[2K     \u001b[90m━━━━━━━━━━━━━━━━━━━━━━━━━━━━━━━━━━━━━━━━\u001b[0m \u001b[32m58.3/58.3 kB\u001b[0m \u001b[31m7.1 MB/s\u001b[0m eta \u001b[36m0:00:00\u001b[0m\n",
            "\u001b[?25hInstalling collected packages: h11, httpcore, httpx, openai\n",
            "\u001b[31mERROR: pip's dependency resolver does not currently take into account all the packages that are installed. This behaviour is the source of the following dependency conflicts.\n",
            "llmx 0.0.15a0 requires cohere, which is not installed.\n",
            "llmx 0.0.15a0 requires tiktoken, which is not installed.\u001b[0m\u001b[31m\n",
            "\u001b[0mSuccessfully installed h11-0.14.0 httpcore-1.0.2 httpx-0.25.2 openai-1.3.5\n"
          ]
        }
      ]
    },
    {
      "cell_type": "code",
      "source": [
        "# Creating an instance of the OpenAI class with a temperature setting of 0 and providing the OpenAI API key for authentication\n",
        "llm = OpenAI(temperature=0.7, api_key=OPENAI_API_KEY)"
      ],
      "metadata": {
        "id": "RKQ11C1hAGvt"
      },
      "execution_count": 58,
      "outputs": []
    },
    {
      "cell_type": "code",
      "source": [
        "# Loading a summarization chain using the OpenAI instance 'llm'\n",
        "# The chain_type parameter is set to \"stuff\", and verbose is set to False\n",
        "chain = load_summarize_chain(llm, chain_type=\"stuff\", verbose=False)\n",
        "\n",
        "# Running the loaded summarization chain on the 'result' variable\n",
        "# The 'result' variable is assumed to contain YouTube video information\n",
        "chain.run(result)\n"
      ],
      "metadata": {
        "colab": {
          "base_uri": "https://localhost:8080/",
          "height": 70
        },
        "id": "ZOAp9mbrAY0E",
        "outputId": "d915e927-15c4-4cd2-b506-f3fc270023dd"
      },
      "execution_count": 59,
      "outputs": [
        {
          "output_type": "execute_result",
          "data": {
            "text/plain": [
              "\" Bad Bunny is hosting SNL and despite the worry that he can't speak English, he proves he is capable and brings up his friend Pedro to help. Pedro offers Bad Bunny some advice on his monologue, such as making self-deprecating jokes and showing embarrassing photos of himself. Bad Bunny expresses gratitude for everyone's support and promises an amazing show.\""
            ],
            "application/vnd.google.colaboratory.intrinsic+json": {
              "type": "string"
            }
          },
          "metadata": {},
          "execution_count": 59
        }
      ]
    },
    {
      "cell_type": "markdown",
      "source": [
        "## 2. Long Video"
      ],
      "metadata": {
        "id": "rNMK1yTfFSgQ"
      }
    },
    {
      "cell_type": "code",
      "source": [
        "# Creating a YoutubeLoader instance to load information from a long YouTube video\n",
        "# The video URL \"https://www.youtube.com/watch?v=X2nUH6fXfbc\" is provided\n",
        "# add_video_info is set to True to include additional video information\n",
        "loader = YoutubeLoader.from_youtube_url(\"https://www.youtube.com/watch?v=X2nUH6fXfbc\", add_video_info=True)\n"
      ],
      "metadata": {
        "id": "lN6J804ypBBi"
      },
      "execution_count": 76,
      "outputs": []
    },
    {
      "cell_type": "code",
      "source": [
        "# Loading information from the YouTube video using the loader instance\n",
        "# The 'loader' variable is assumed to be a YoutubeLoader instance\n",
        "result = loader.load()\n",
        "\n",
        "# Loading a summarization chain using the OpenAI instance 'llm'\n",
        "# The chain_type parameter is set to \"stuff\", and verbose is set to False\n",
        "chain = load_summarize_chain(llm, chain_type=\"stuff\", verbose=False)\n",
        "\n",
        "# Running the loaded summarization chain on the 'result' variable\n",
        "# The 'result' variable is assumed to contain YouTube video information\n",
        "chain.run(result)\n"
      ],
      "metadata": {
        "colab": {
          "base_uri": "https://localhost:8080/",
          "height": 373
        },
        "id": "_OFHr0vXpejB",
        "outputId": "75a31f1a-ede7-45fd-e84e-f03e4be9fec0"
      },
      "execution_count": 77,
      "outputs": [
        {
          "output_type": "error",
          "ename": "BadRequestError",
          "evalue": "ignored",
          "traceback": [
            "\u001b[0;31m---------------------------------------------------------------------------\u001b[0m",
            "\u001b[0;31mBadRequestError\u001b[0m                           Traceback (most recent call last)",
            "\u001b[0;32m<ipython-input-77-6514019af8f6>\u001b[0m in \u001b[0;36m<cell line: 11>\u001b[0;34m()\u001b[0m\n\u001b[1;32m      9\u001b[0m \u001b[0;31m# Running the loaded summarization chain on the 'result' variable\u001b[0m\u001b[0;34m\u001b[0m\u001b[0;34m\u001b[0m\u001b[0m\n\u001b[1;32m     10\u001b[0m \u001b[0;31m# The 'result' variable is assumed to contain YouTube video information\u001b[0m\u001b[0;34m\u001b[0m\u001b[0;34m\u001b[0m\u001b[0m\n\u001b[0;32m---> 11\u001b[0;31m \u001b[0mchain\u001b[0m\u001b[0;34m.\u001b[0m\u001b[0mrun\u001b[0m\u001b[0;34m(\u001b[0m\u001b[0mresult\u001b[0m\u001b[0;34m)\u001b[0m\u001b[0;34m\u001b[0m\u001b[0;34m\u001b[0m\u001b[0m\n\u001b[0m",
            "\u001b[0;32m/usr/local/lib/python3.10/dist-packages/langchain/chains/base.py\u001b[0m in \u001b[0;36mrun\u001b[0;34m(self, callbacks, tags, metadata, *args, **kwargs)\u001b[0m\n\u001b[1;32m    503\u001b[0m             \u001b[0;32mif\u001b[0m \u001b[0mlen\u001b[0m\u001b[0;34m(\u001b[0m\u001b[0margs\u001b[0m\u001b[0;34m)\u001b[0m \u001b[0;34m!=\u001b[0m \u001b[0;36m1\u001b[0m\u001b[0;34m:\u001b[0m\u001b[0;34m\u001b[0m\u001b[0;34m\u001b[0m\u001b[0m\n\u001b[1;32m    504\u001b[0m                 \u001b[0;32mraise\u001b[0m \u001b[0mValueError\u001b[0m\u001b[0;34m(\u001b[0m\u001b[0;34m\"`run` supports only one positional argument.\"\u001b[0m\u001b[0;34m)\u001b[0m\u001b[0;34m\u001b[0m\u001b[0;34m\u001b[0m\u001b[0m\n\u001b[0;32m--> 505\u001b[0;31m             return self(args[0], callbacks=callbacks, tags=tags, metadata=metadata)[\n\u001b[0m\u001b[1;32m    506\u001b[0m                 \u001b[0m_output_key\u001b[0m\u001b[0;34m\u001b[0m\u001b[0;34m\u001b[0m\u001b[0m\n\u001b[1;32m    507\u001b[0m             ]\n",
            "\u001b[0;32m/usr/local/lib/python3.10/dist-packages/langchain/chains/base.py\u001b[0m in \u001b[0;36m__call__\u001b[0;34m(self, inputs, return_only_outputs, callbacks, tags, metadata, run_name, include_run_info)\u001b[0m\n\u001b[1;32m    308\u001b[0m         \u001b[0;32mexcept\u001b[0m \u001b[0mBaseException\u001b[0m \u001b[0;32mas\u001b[0m \u001b[0me\u001b[0m\u001b[0;34m:\u001b[0m\u001b[0;34m\u001b[0m\u001b[0;34m\u001b[0m\u001b[0m\n\u001b[1;32m    309\u001b[0m             \u001b[0mrun_manager\u001b[0m\u001b[0;34m.\u001b[0m\u001b[0mon_chain_error\u001b[0m\u001b[0;34m(\u001b[0m\u001b[0me\u001b[0m\u001b[0;34m)\u001b[0m\u001b[0;34m\u001b[0m\u001b[0;34m\u001b[0m\u001b[0m\n\u001b[0;32m--> 310\u001b[0;31m             \u001b[0;32mraise\u001b[0m \u001b[0me\u001b[0m\u001b[0;34m\u001b[0m\u001b[0;34m\u001b[0m\u001b[0m\n\u001b[0m\u001b[1;32m    311\u001b[0m         \u001b[0mrun_manager\u001b[0m\u001b[0;34m.\u001b[0m\u001b[0mon_chain_end\u001b[0m\u001b[0;34m(\u001b[0m\u001b[0moutputs\u001b[0m\u001b[0;34m)\u001b[0m\u001b[0;34m\u001b[0m\u001b[0;34m\u001b[0m\u001b[0m\n\u001b[1;32m    312\u001b[0m         final_outputs: Dict[str, Any] = self.prep_outputs(\n",
            "\u001b[0;32m/usr/local/lib/python3.10/dist-packages/langchain/chains/base.py\u001b[0m in \u001b[0;36m__call__\u001b[0;34m(self, inputs, return_only_outputs, callbacks, tags, metadata, run_name, include_run_info)\u001b[0m\n\u001b[1;32m    302\u001b[0m         \u001b[0;32mtry\u001b[0m\u001b[0;34m:\u001b[0m\u001b[0;34m\u001b[0m\u001b[0;34m\u001b[0m\u001b[0m\n\u001b[1;32m    303\u001b[0m             outputs = (\n\u001b[0;32m--> 304\u001b[0;31m                 \u001b[0mself\u001b[0m\u001b[0;34m.\u001b[0m\u001b[0m_call\u001b[0m\u001b[0;34m(\u001b[0m\u001b[0minputs\u001b[0m\u001b[0;34m,\u001b[0m \u001b[0mrun_manager\u001b[0m\u001b[0;34m=\u001b[0m\u001b[0mrun_manager\u001b[0m\u001b[0;34m)\u001b[0m\u001b[0;34m\u001b[0m\u001b[0;34m\u001b[0m\u001b[0m\n\u001b[0m\u001b[1;32m    305\u001b[0m                 \u001b[0;32mif\u001b[0m \u001b[0mnew_arg_supported\u001b[0m\u001b[0;34m\u001b[0m\u001b[0;34m\u001b[0m\u001b[0m\n\u001b[1;32m    306\u001b[0m                 \u001b[0;32melse\u001b[0m \u001b[0mself\u001b[0m\u001b[0;34m.\u001b[0m\u001b[0m_call\u001b[0m\u001b[0;34m(\u001b[0m\u001b[0minputs\u001b[0m\u001b[0;34m)\u001b[0m\u001b[0;34m\u001b[0m\u001b[0;34m\u001b[0m\u001b[0m\n",
            "\u001b[0;32m/usr/local/lib/python3.10/dist-packages/langchain/chains/combine_documents/base.py\u001b[0m in \u001b[0;36m_call\u001b[0;34m(self, inputs, run_manager)\u001b[0m\n\u001b[1;32m    120\u001b[0m         \u001b[0;31m# Other keys are assumed to be needed for LLM prediction\u001b[0m\u001b[0;34m\u001b[0m\u001b[0;34m\u001b[0m\u001b[0m\n\u001b[1;32m    121\u001b[0m         \u001b[0mother_keys\u001b[0m \u001b[0;34m=\u001b[0m \u001b[0;34m{\u001b[0m\u001b[0mk\u001b[0m\u001b[0;34m:\u001b[0m \u001b[0mv\u001b[0m \u001b[0;32mfor\u001b[0m \u001b[0mk\u001b[0m\u001b[0;34m,\u001b[0m \u001b[0mv\u001b[0m \u001b[0;32min\u001b[0m \u001b[0minputs\u001b[0m\u001b[0;34m.\u001b[0m\u001b[0mitems\u001b[0m\u001b[0;34m(\u001b[0m\u001b[0;34m)\u001b[0m \u001b[0;32mif\u001b[0m \u001b[0mk\u001b[0m \u001b[0;34m!=\u001b[0m \u001b[0mself\u001b[0m\u001b[0;34m.\u001b[0m\u001b[0minput_key\u001b[0m\u001b[0;34m}\u001b[0m\u001b[0;34m\u001b[0m\u001b[0;34m\u001b[0m\u001b[0m\n\u001b[0;32m--> 122\u001b[0;31m         output, extra_return_dict = self.combine_docs(\n\u001b[0m\u001b[1;32m    123\u001b[0m             \u001b[0mdocs\u001b[0m\u001b[0;34m,\u001b[0m \u001b[0mcallbacks\u001b[0m\u001b[0;34m=\u001b[0m\u001b[0m_run_manager\u001b[0m\u001b[0;34m.\u001b[0m\u001b[0mget_child\u001b[0m\u001b[0;34m(\u001b[0m\u001b[0;34m)\u001b[0m\u001b[0;34m,\u001b[0m \u001b[0;34m**\u001b[0m\u001b[0mother_keys\u001b[0m\u001b[0;34m\u001b[0m\u001b[0;34m\u001b[0m\u001b[0m\n\u001b[1;32m    124\u001b[0m         )\n",
            "\u001b[0;32m/usr/local/lib/python3.10/dist-packages/langchain/chains/combine_documents/stuff.py\u001b[0m in \u001b[0;36mcombine_docs\u001b[0;34m(self, docs, callbacks, **kwargs)\u001b[0m\n\u001b[1;32m    169\u001b[0m         \u001b[0minputs\u001b[0m \u001b[0;34m=\u001b[0m \u001b[0mself\u001b[0m\u001b[0;34m.\u001b[0m\u001b[0m_get_inputs\u001b[0m\u001b[0;34m(\u001b[0m\u001b[0mdocs\u001b[0m\u001b[0;34m,\u001b[0m \u001b[0;34m**\u001b[0m\u001b[0mkwargs\u001b[0m\u001b[0;34m)\u001b[0m\u001b[0;34m\u001b[0m\u001b[0;34m\u001b[0m\u001b[0m\n\u001b[1;32m    170\u001b[0m         \u001b[0;31m# Call predict on the LLM.\u001b[0m\u001b[0;34m\u001b[0m\u001b[0;34m\u001b[0m\u001b[0m\n\u001b[0;32m--> 171\u001b[0;31m         \u001b[0;32mreturn\u001b[0m \u001b[0mself\u001b[0m\u001b[0;34m.\u001b[0m\u001b[0mllm_chain\u001b[0m\u001b[0;34m.\u001b[0m\u001b[0mpredict\u001b[0m\u001b[0;34m(\u001b[0m\u001b[0mcallbacks\u001b[0m\u001b[0;34m=\u001b[0m\u001b[0mcallbacks\u001b[0m\u001b[0;34m,\u001b[0m \u001b[0;34m**\u001b[0m\u001b[0minputs\u001b[0m\u001b[0;34m)\u001b[0m\u001b[0;34m,\u001b[0m \u001b[0;34m{\u001b[0m\u001b[0;34m}\u001b[0m\u001b[0;34m\u001b[0m\u001b[0;34m\u001b[0m\u001b[0m\n\u001b[0m\u001b[1;32m    172\u001b[0m \u001b[0;34m\u001b[0m\u001b[0m\n\u001b[1;32m    173\u001b[0m     async def acombine_docs(\n",
            "\u001b[0;32m/usr/local/lib/python3.10/dist-packages/langchain/chains/llm.py\u001b[0m in \u001b[0;36mpredict\u001b[0;34m(self, callbacks, **kwargs)\u001b[0m\n\u001b[1;32m    296\u001b[0m                 \u001b[0mcompletion\u001b[0m \u001b[0;34m=\u001b[0m \u001b[0mllm\u001b[0m\u001b[0;34m.\u001b[0m\u001b[0mpredict\u001b[0m\u001b[0;34m(\u001b[0m\u001b[0madjective\u001b[0m\u001b[0;34m=\u001b[0m\u001b[0;34m\"funny\"\u001b[0m\u001b[0;34m)\u001b[0m\u001b[0;34m\u001b[0m\u001b[0;34m\u001b[0m\u001b[0m\n\u001b[1;32m    297\u001b[0m         \"\"\"\n\u001b[0;32m--> 298\u001b[0;31m         \u001b[0;32mreturn\u001b[0m \u001b[0mself\u001b[0m\u001b[0;34m(\u001b[0m\u001b[0mkwargs\u001b[0m\u001b[0;34m,\u001b[0m \u001b[0mcallbacks\u001b[0m\u001b[0;34m=\u001b[0m\u001b[0mcallbacks\u001b[0m\u001b[0;34m)\u001b[0m\u001b[0;34m[\u001b[0m\u001b[0mself\u001b[0m\u001b[0;34m.\u001b[0m\u001b[0moutput_key\u001b[0m\u001b[0;34m]\u001b[0m\u001b[0;34m\u001b[0m\u001b[0;34m\u001b[0m\u001b[0m\n\u001b[0m\u001b[1;32m    299\u001b[0m \u001b[0;34m\u001b[0m\u001b[0m\n\u001b[1;32m    300\u001b[0m     \u001b[0;32masync\u001b[0m \u001b[0;32mdef\u001b[0m \u001b[0mapredict\u001b[0m\u001b[0;34m(\u001b[0m\u001b[0mself\u001b[0m\u001b[0;34m,\u001b[0m \u001b[0mcallbacks\u001b[0m\u001b[0;34m:\u001b[0m \u001b[0mCallbacks\u001b[0m \u001b[0;34m=\u001b[0m \u001b[0;32mNone\u001b[0m\u001b[0;34m,\u001b[0m \u001b[0;34m**\u001b[0m\u001b[0mkwargs\u001b[0m\u001b[0;34m:\u001b[0m \u001b[0mAny\u001b[0m\u001b[0;34m)\u001b[0m \u001b[0;34m->\u001b[0m \u001b[0mstr\u001b[0m\u001b[0;34m:\u001b[0m\u001b[0;34m\u001b[0m\u001b[0;34m\u001b[0m\u001b[0m\n",
            "\u001b[0;32m/usr/local/lib/python3.10/dist-packages/langchain/chains/base.py\u001b[0m in \u001b[0;36m__call__\u001b[0;34m(self, inputs, return_only_outputs, callbacks, tags, metadata, run_name, include_run_info)\u001b[0m\n\u001b[1;32m    308\u001b[0m         \u001b[0;32mexcept\u001b[0m \u001b[0mBaseException\u001b[0m \u001b[0;32mas\u001b[0m \u001b[0me\u001b[0m\u001b[0;34m:\u001b[0m\u001b[0;34m\u001b[0m\u001b[0;34m\u001b[0m\u001b[0m\n\u001b[1;32m    309\u001b[0m             \u001b[0mrun_manager\u001b[0m\u001b[0;34m.\u001b[0m\u001b[0mon_chain_error\u001b[0m\u001b[0;34m(\u001b[0m\u001b[0me\u001b[0m\u001b[0;34m)\u001b[0m\u001b[0;34m\u001b[0m\u001b[0;34m\u001b[0m\u001b[0m\n\u001b[0;32m--> 310\u001b[0;31m             \u001b[0;32mraise\u001b[0m \u001b[0me\u001b[0m\u001b[0;34m\u001b[0m\u001b[0;34m\u001b[0m\u001b[0m\n\u001b[0m\u001b[1;32m    311\u001b[0m         \u001b[0mrun_manager\u001b[0m\u001b[0;34m.\u001b[0m\u001b[0mon_chain_end\u001b[0m\u001b[0;34m(\u001b[0m\u001b[0moutputs\u001b[0m\u001b[0;34m)\u001b[0m\u001b[0;34m\u001b[0m\u001b[0;34m\u001b[0m\u001b[0m\n\u001b[1;32m    312\u001b[0m         final_outputs: Dict[str, Any] = self.prep_outputs(\n",
            "\u001b[0;32m/usr/local/lib/python3.10/dist-packages/langchain/chains/base.py\u001b[0m in \u001b[0;36m__call__\u001b[0;34m(self, inputs, return_only_outputs, callbacks, tags, metadata, run_name, include_run_info)\u001b[0m\n\u001b[1;32m    302\u001b[0m         \u001b[0;32mtry\u001b[0m\u001b[0;34m:\u001b[0m\u001b[0;34m\u001b[0m\u001b[0;34m\u001b[0m\u001b[0m\n\u001b[1;32m    303\u001b[0m             outputs = (\n\u001b[0;32m--> 304\u001b[0;31m                 \u001b[0mself\u001b[0m\u001b[0;34m.\u001b[0m\u001b[0m_call\u001b[0m\u001b[0;34m(\u001b[0m\u001b[0minputs\u001b[0m\u001b[0;34m,\u001b[0m \u001b[0mrun_manager\u001b[0m\u001b[0;34m=\u001b[0m\u001b[0mrun_manager\u001b[0m\u001b[0;34m)\u001b[0m\u001b[0;34m\u001b[0m\u001b[0;34m\u001b[0m\u001b[0m\n\u001b[0m\u001b[1;32m    305\u001b[0m                 \u001b[0;32mif\u001b[0m \u001b[0mnew_arg_supported\u001b[0m\u001b[0;34m\u001b[0m\u001b[0;34m\u001b[0m\u001b[0m\n\u001b[1;32m    306\u001b[0m                 \u001b[0;32melse\u001b[0m \u001b[0mself\u001b[0m\u001b[0;34m.\u001b[0m\u001b[0m_call\u001b[0m\u001b[0;34m(\u001b[0m\u001b[0minputs\u001b[0m\u001b[0;34m)\u001b[0m\u001b[0;34m\u001b[0m\u001b[0;34m\u001b[0m\u001b[0m\n",
            "\u001b[0;32m/usr/local/lib/python3.10/dist-packages/langchain/chains/llm.py\u001b[0m in \u001b[0;36m_call\u001b[0;34m(self, inputs, run_manager)\u001b[0m\n\u001b[1;32m    106\u001b[0m         \u001b[0mrun_manager\u001b[0m\u001b[0;34m:\u001b[0m \u001b[0mOptional\u001b[0m\u001b[0;34m[\u001b[0m\u001b[0mCallbackManagerForChainRun\u001b[0m\u001b[0;34m]\u001b[0m \u001b[0;34m=\u001b[0m \u001b[0;32mNone\u001b[0m\u001b[0;34m,\u001b[0m\u001b[0;34m\u001b[0m\u001b[0;34m\u001b[0m\u001b[0m\n\u001b[1;32m    107\u001b[0m     ) -> Dict[str, str]:\n\u001b[0;32m--> 108\u001b[0;31m         \u001b[0mresponse\u001b[0m \u001b[0;34m=\u001b[0m \u001b[0mself\u001b[0m\u001b[0;34m.\u001b[0m\u001b[0mgenerate\u001b[0m\u001b[0;34m(\u001b[0m\u001b[0;34m[\u001b[0m\u001b[0minputs\u001b[0m\u001b[0;34m]\u001b[0m\u001b[0;34m,\u001b[0m \u001b[0mrun_manager\u001b[0m\u001b[0;34m=\u001b[0m\u001b[0mrun_manager\u001b[0m\u001b[0;34m)\u001b[0m\u001b[0;34m\u001b[0m\u001b[0;34m\u001b[0m\u001b[0m\n\u001b[0m\u001b[1;32m    109\u001b[0m         \u001b[0;32mreturn\u001b[0m \u001b[0mself\u001b[0m\u001b[0;34m.\u001b[0m\u001b[0mcreate_outputs\u001b[0m\u001b[0;34m(\u001b[0m\u001b[0mresponse\u001b[0m\u001b[0;34m)\u001b[0m\u001b[0;34m[\u001b[0m\u001b[0;36m0\u001b[0m\u001b[0;34m]\u001b[0m\u001b[0;34m\u001b[0m\u001b[0;34m\u001b[0m\u001b[0m\n\u001b[1;32m    110\u001b[0m \u001b[0;34m\u001b[0m\u001b[0m\n",
            "\u001b[0;32m/usr/local/lib/python3.10/dist-packages/langchain/chains/llm.py\u001b[0m in \u001b[0;36mgenerate\u001b[0;34m(self, input_list, run_manager)\u001b[0m\n\u001b[1;32m    118\u001b[0m         \u001b[0mcallbacks\u001b[0m \u001b[0;34m=\u001b[0m \u001b[0mrun_manager\u001b[0m\u001b[0;34m.\u001b[0m\u001b[0mget_child\u001b[0m\u001b[0;34m(\u001b[0m\u001b[0;34m)\u001b[0m \u001b[0;32mif\u001b[0m \u001b[0mrun_manager\u001b[0m \u001b[0;32melse\u001b[0m \u001b[0;32mNone\u001b[0m\u001b[0;34m\u001b[0m\u001b[0;34m\u001b[0m\u001b[0m\n\u001b[1;32m    119\u001b[0m         \u001b[0;32mif\u001b[0m \u001b[0misinstance\u001b[0m\u001b[0;34m(\u001b[0m\u001b[0mself\u001b[0m\u001b[0;34m.\u001b[0m\u001b[0mllm\u001b[0m\u001b[0;34m,\u001b[0m \u001b[0mBaseLanguageModel\u001b[0m\u001b[0;34m)\u001b[0m\u001b[0;34m:\u001b[0m\u001b[0;34m\u001b[0m\u001b[0;34m\u001b[0m\u001b[0m\n\u001b[0;32m--> 120\u001b[0;31m             return self.llm.generate_prompt(\n\u001b[0m\u001b[1;32m    121\u001b[0m                 \u001b[0mprompts\u001b[0m\u001b[0;34m,\u001b[0m\u001b[0;34m\u001b[0m\u001b[0;34m\u001b[0m\u001b[0m\n\u001b[1;32m    122\u001b[0m                 \u001b[0mstop\u001b[0m\u001b[0;34m,\u001b[0m\u001b[0;34m\u001b[0m\u001b[0;34m\u001b[0m\u001b[0m\n",
            "\u001b[0;32m/usr/local/lib/python3.10/dist-packages/langchain/llms/base.py\u001b[0m in \u001b[0;36mgenerate_prompt\u001b[0;34m(self, prompts, stop, callbacks, **kwargs)\u001b[0m\n\u001b[1;32m    505\u001b[0m     ) -> LLMResult:\n\u001b[1;32m    506\u001b[0m         \u001b[0mprompt_strings\u001b[0m \u001b[0;34m=\u001b[0m \u001b[0;34m[\u001b[0m\u001b[0mp\u001b[0m\u001b[0;34m.\u001b[0m\u001b[0mto_string\u001b[0m\u001b[0;34m(\u001b[0m\u001b[0;34m)\u001b[0m \u001b[0;32mfor\u001b[0m \u001b[0mp\u001b[0m \u001b[0;32min\u001b[0m \u001b[0mprompts\u001b[0m\u001b[0;34m]\u001b[0m\u001b[0;34m\u001b[0m\u001b[0;34m\u001b[0m\u001b[0m\n\u001b[0;32m--> 507\u001b[0;31m         \u001b[0;32mreturn\u001b[0m \u001b[0mself\u001b[0m\u001b[0;34m.\u001b[0m\u001b[0mgenerate\u001b[0m\u001b[0;34m(\u001b[0m\u001b[0mprompt_strings\u001b[0m\u001b[0;34m,\u001b[0m \u001b[0mstop\u001b[0m\u001b[0;34m=\u001b[0m\u001b[0mstop\u001b[0m\u001b[0;34m,\u001b[0m \u001b[0mcallbacks\u001b[0m\u001b[0;34m=\u001b[0m\u001b[0mcallbacks\u001b[0m\u001b[0;34m,\u001b[0m \u001b[0;34m**\u001b[0m\u001b[0mkwargs\u001b[0m\u001b[0;34m)\u001b[0m\u001b[0;34m\u001b[0m\u001b[0;34m\u001b[0m\u001b[0m\n\u001b[0m\u001b[1;32m    508\u001b[0m \u001b[0;34m\u001b[0m\u001b[0m\n\u001b[1;32m    509\u001b[0m     async def agenerate_prompt(\n",
            "\u001b[0;32m/usr/local/lib/python3.10/dist-packages/langchain/llms/base.py\u001b[0m in \u001b[0;36mgenerate\u001b[0;34m(self, prompts, stop, callbacks, tags, metadata, run_name, **kwargs)\u001b[0m\n\u001b[1;32m    654\u001b[0m                 )\n\u001b[1;32m    655\u001b[0m             ]\n\u001b[0;32m--> 656\u001b[0;31m             output = self._generate_helper(\n\u001b[0m\u001b[1;32m    657\u001b[0m                 \u001b[0mprompts\u001b[0m\u001b[0;34m,\u001b[0m \u001b[0mstop\u001b[0m\u001b[0;34m,\u001b[0m \u001b[0mrun_managers\u001b[0m\u001b[0;34m,\u001b[0m \u001b[0mbool\u001b[0m\u001b[0;34m(\u001b[0m\u001b[0mnew_arg_supported\u001b[0m\u001b[0;34m)\u001b[0m\u001b[0;34m,\u001b[0m \u001b[0;34m**\u001b[0m\u001b[0mkwargs\u001b[0m\u001b[0;34m\u001b[0m\u001b[0;34m\u001b[0m\u001b[0m\n\u001b[1;32m    658\u001b[0m             )\n",
            "\u001b[0;32m/usr/local/lib/python3.10/dist-packages/langchain/llms/base.py\u001b[0m in \u001b[0;36m_generate_helper\u001b[0;34m(self, prompts, stop, run_managers, new_arg_supported, **kwargs)\u001b[0m\n\u001b[1;32m    542\u001b[0m             \u001b[0;32mfor\u001b[0m \u001b[0mrun_manager\u001b[0m \u001b[0;32min\u001b[0m \u001b[0mrun_managers\u001b[0m\u001b[0;34m:\u001b[0m\u001b[0;34m\u001b[0m\u001b[0;34m\u001b[0m\u001b[0m\n\u001b[1;32m    543\u001b[0m                 \u001b[0mrun_manager\u001b[0m\u001b[0;34m.\u001b[0m\u001b[0mon_llm_error\u001b[0m\u001b[0;34m(\u001b[0m\u001b[0me\u001b[0m\u001b[0;34m)\u001b[0m\u001b[0;34m\u001b[0m\u001b[0;34m\u001b[0m\u001b[0m\n\u001b[0;32m--> 544\u001b[0;31m             \u001b[0;32mraise\u001b[0m \u001b[0me\u001b[0m\u001b[0;34m\u001b[0m\u001b[0;34m\u001b[0m\u001b[0m\n\u001b[0m\u001b[1;32m    545\u001b[0m         \u001b[0mflattened_outputs\u001b[0m \u001b[0;34m=\u001b[0m \u001b[0moutput\u001b[0m\u001b[0;34m.\u001b[0m\u001b[0mflatten\u001b[0m\u001b[0;34m(\u001b[0m\u001b[0;34m)\u001b[0m\u001b[0;34m\u001b[0m\u001b[0;34m\u001b[0m\u001b[0m\n\u001b[1;32m    546\u001b[0m         \u001b[0;32mfor\u001b[0m \u001b[0mmanager\u001b[0m\u001b[0;34m,\u001b[0m \u001b[0mflattened_output\u001b[0m \u001b[0;32min\u001b[0m \u001b[0mzip\u001b[0m\u001b[0;34m(\u001b[0m\u001b[0mrun_managers\u001b[0m\u001b[0;34m,\u001b[0m \u001b[0mflattened_outputs\u001b[0m\u001b[0;34m)\u001b[0m\u001b[0;34m:\u001b[0m\u001b[0;34m\u001b[0m\u001b[0;34m\u001b[0m\u001b[0m\n",
            "\u001b[0;32m/usr/local/lib/python3.10/dist-packages/langchain/llms/base.py\u001b[0m in \u001b[0;36m_generate_helper\u001b[0;34m(self, prompts, stop, run_managers, new_arg_supported, **kwargs)\u001b[0m\n\u001b[1;32m    529\u001b[0m         \u001b[0;32mtry\u001b[0m\u001b[0;34m:\u001b[0m\u001b[0;34m\u001b[0m\u001b[0;34m\u001b[0m\u001b[0m\n\u001b[1;32m    530\u001b[0m             output = (\n\u001b[0;32m--> 531\u001b[0;31m                 self._generate(\n\u001b[0m\u001b[1;32m    532\u001b[0m                     \u001b[0mprompts\u001b[0m\u001b[0;34m,\u001b[0m\u001b[0;34m\u001b[0m\u001b[0;34m\u001b[0m\u001b[0m\n\u001b[1;32m    533\u001b[0m                     \u001b[0mstop\u001b[0m\u001b[0;34m=\u001b[0m\u001b[0mstop\u001b[0m\u001b[0;34m,\u001b[0m\u001b[0;34m\u001b[0m\u001b[0;34m\u001b[0m\u001b[0m\n",
            "\u001b[0;32m/usr/local/lib/python3.10/dist-packages/langchain/llms/openai.py\u001b[0m in \u001b[0;36m_generate\u001b[0;34m(self, prompts, stop, run_manager, **kwargs)\u001b[0m\n\u001b[1;32m    452\u001b[0m                 )\n\u001b[1;32m    453\u001b[0m             \u001b[0;32melse\u001b[0m\u001b[0;34m:\u001b[0m\u001b[0;34m\u001b[0m\u001b[0;34m\u001b[0m\u001b[0m\n\u001b[0;32m--> 454\u001b[0;31m                 response = completion_with_retry(\n\u001b[0m\u001b[1;32m    455\u001b[0m                     \u001b[0mself\u001b[0m\u001b[0;34m,\u001b[0m \u001b[0mprompt\u001b[0m\u001b[0;34m=\u001b[0m\u001b[0m_prompts\u001b[0m\u001b[0;34m,\u001b[0m \u001b[0mrun_manager\u001b[0m\u001b[0;34m=\u001b[0m\u001b[0mrun_manager\u001b[0m\u001b[0;34m,\u001b[0m \u001b[0;34m**\u001b[0m\u001b[0mparams\u001b[0m\u001b[0;34m\u001b[0m\u001b[0;34m\u001b[0m\u001b[0m\n\u001b[1;32m    456\u001b[0m                 )\n",
            "\u001b[0;32m/usr/local/lib/python3.10/dist-packages/langchain/llms/openai.py\u001b[0m in \u001b[0;36mcompletion_with_retry\u001b[0;34m(llm, run_manager, **kwargs)\u001b[0m\n\u001b[1;32m    112\u001b[0m     \u001b[0;34m\"\"\"Use tenacity to retry the completion call.\"\"\"\u001b[0m\u001b[0;34m\u001b[0m\u001b[0;34m\u001b[0m\u001b[0m\n\u001b[1;32m    113\u001b[0m     \u001b[0;32mif\u001b[0m \u001b[0mis_openai_v1\u001b[0m\u001b[0;34m(\u001b[0m\u001b[0;34m)\u001b[0m\u001b[0;34m:\u001b[0m\u001b[0;34m\u001b[0m\u001b[0;34m\u001b[0m\u001b[0m\n\u001b[0;32m--> 114\u001b[0;31m         \u001b[0;32mreturn\u001b[0m \u001b[0mllm\u001b[0m\u001b[0;34m.\u001b[0m\u001b[0mclient\u001b[0m\u001b[0;34m.\u001b[0m\u001b[0mcreate\u001b[0m\u001b[0;34m(\u001b[0m\u001b[0;34m**\u001b[0m\u001b[0mkwargs\u001b[0m\u001b[0;34m)\u001b[0m\u001b[0;34m\u001b[0m\u001b[0;34m\u001b[0m\u001b[0m\n\u001b[0m\u001b[1;32m    115\u001b[0m \u001b[0;34m\u001b[0m\u001b[0m\n\u001b[1;32m    116\u001b[0m     \u001b[0mretry_decorator\u001b[0m \u001b[0;34m=\u001b[0m \u001b[0m_create_retry_decorator\u001b[0m\u001b[0;34m(\u001b[0m\u001b[0mllm\u001b[0m\u001b[0;34m,\u001b[0m \u001b[0mrun_manager\u001b[0m\u001b[0;34m=\u001b[0m\u001b[0mrun_manager\u001b[0m\u001b[0;34m)\u001b[0m\u001b[0;34m\u001b[0m\u001b[0;34m\u001b[0m\u001b[0m\n",
            "\u001b[0;32m/usr/local/lib/python3.10/dist-packages/openai/_utils/_utils.py\u001b[0m in \u001b[0;36mwrapper\u001b[0;34m(*args, **kwargs)\u001b[0m\n\u001b[1;32m    297\u001b[0m                         \u001b[0mmsg\u001b[0m \u001b[0;34m=\u001b[0m \u001b[0;34mf\"Missing required argument: {quote(missing[0])}\"\u001b[0m\u001b[0;34m\u001b[0m\u001b[0;34m\u001b[0m\u001b[0m\n\u001b[1;32m    298\u001b[0m                 \u001b[0;32mraise\u001b[0m \u001b[0mTypeError\u001b[0m\u001b[0;34m(\u001b[0m\u001b[0mmsg\u001b[0m\u001b[0;34m)\u001b[0m\u001b[0;34m\u001b[0m\u001b[0;34m\u001b[0m\u001b[0m\n\u001b[0;32m--> 299\u001b[0;31m             \u001b[0;32mreturn\u001b[0m \u001b[0mfunc\u001b[0m\u001b[0;34m(\u001b[0m\u001b[0;34m*\u001b[0m\u001b[0margs\u001b[0m\u001b[0;34m,\u001b[0m \u001b[0;34m**\u001b[0m\u001b[0mkwargs\u001b[0m\u001b[0;34m)\u001b[0m\u001b[0;34m\u001b[0m\u001b[0;34m\u001b[0m\u001b[0m\n\u001b[0m\u001b[1;32m    300\u001b[0m \u001b[0;34m\u001b[0m\u001b[0m\n\u001b[1;32m    301\u001b[0m         \u001b[0;32mreturn\u001b[0m \u001b[0mwrapper\u001b[0m  \u001b[0;31m# type: ignore\u001b[0m\u001b[0;34m\u001b[0m\u001b[0;34m\u001b[0m\u001b[0m\n",
            "\u001b[0;32m/usr/local/lib/python3.10/dist-packages/openai/resources/completions.py\u001b[0m in \u001b[0;36mcreate\u001b[0;34m(self, model, prompt, best_of, echo, frequency_penalty, logit_bias, logprobs, max_tokens, n, presence_penalty, seed, stop, stream, suffix, temperature, top_p, user, extra_headers, extra_query, extra_body, timeout)\u001b[0m\n\u001b[1;32m    557\u001b[0m         \u001b[0mtimeout\u001b[0m\u001b[0;34m:\u001b[0m \u001b[0mfloat\u001b[0m \u001b[0;34m|\u001b[0m \u001b[0mhttpx\u001b[0m\u001b[0;34m.\u001b[0m\u001b[0mTimeout\u001b[0m \u001b[0;34m|\u001b[0m \u001b[0;32mNone\u001b[0m \u001b[0;34m|\u001b[0m \u001b[0mNotGiven\u001b[0m \u001b[0;34m=\u001b[0m \u001b[0mNOT_GIVEN\u001b[0m\u001b[0;34m,\u001b[0m\u001b[0;34m\u001b[0m\u001b[0;34m\u001b[0m\u001b[0m\n\u001b[1;32m    558\u001b[0m     ) -> Completion | Stream[Completion]:\n\u001b[0;32m--> 559\u001b[0;31m         return self._post(\n\u001b[0m\u001b[1;32m    560\u001b[0m             \u001b[0;34m\"/completions\"\u001b[0m\u001b[0;34m,\u001b[0m\u001b[0;34m\u001b[0m\u001b[0;34m\u001b[0m\u001b[0m\n\u001b[1;32m    561\u001b[0m             body=maybe_transform(\n",
            "\u001b[0;32m/usr/local/lib/python3.10/dist-packages/openai/_base_client.py\u001b[0m in \u001b[0;36mpost\u001b[0;34m(self, path, cast_to, body, options, files, stream, stream_cls)\u001b[0m\n\u001b[1;32m   1061\u001b[0m             \u001b[0mmethod\u001b[0m\u001b[0;34m=\u001b[0m\u001b[0;34m\"post\"\u001b[0m\u001b[0;34m,\u001b[0m \u001b[0murl\u001b[0m\u001b[0;34m=\u001b[0m\u001b[0mpath\u001b[0m\u001b[0;34m,\u001b[0m \u001b[0mjson_data\u001b[0m\u001b[0;34m=\u001b[0m\u001b[0mbody\u001b[0m\u001b[0;34m,\u001b[0m \u001b[0mfiles\u001b[0m\u001b[0;34m=\u001b[0m\u001b[0mto_httpx_files\u001b[0m\u001b[0;34m(\u001b[0m\u001b[0mfiles\u001b[0m\u001b[0;34m)\u001b[0m\u001b[0;34m,\u001b[0m \u001b[0;34m**\u001b[0m\u001b[0moptions\u001b[0m\u001b[0;34m\u001b[0m\u001b[0;34m\u001b[0m\u001b[0m\n\u001b[1;32m   1062\u001b[0m         )\n\u001b[0;32m-> 1063\u001b[0;31m         \u001b[0;32mreturn\u001b[0m \u001b[0mcast\u001b[0m\u001b[0;34m(\u001b[0m\u001b[0mResponseT\u001b[0m\u001b[0;34m,\u001b[0m \u001b[0mself\u001b[0m\u001b[0;34m.\u001b[0m\u001b[0mrequest\u001b[0m\u001b[0;34m(\u001b[0m\u001b[0mcast_to\u001b[0m\u001b[0;34m,\u001b[0m \u001b[0mopts\u001b[0m\u001b[0;34m,\u001b[0m \u001b[0mstream\u001b[0m\u001b[0;34m=\u001b[0m\u001b[0mstream\u001b[0m\u001b[0;34m,\u001b[0m \u001b[0mstream_cls\u001b[0m\u001b[0;34m=\u001b[0m\u001b[0mstream_cls\u001b[0m\u001b[0;34m)\u001b[0m\u001b[0;34m)\u001b[0m\u001b[0;34m\u001b[0m\u001b[0;34m\u001b[0m\u001b[0m\n\u001b[0m\u001b[1;32m   1064\u001b[0m \u001b[0;34m\u001b[0m\u001b[0m\n\u001b[1;32m   1065\u001b[0m     def patch(\n",
            "\u001b[0;32m/usr/local/lib/python3.10/dist-packages/openai/_base_client.py\u001b[0m in \u001b[0;36mrequest\u001b[0;34m(self, cast_to, options, remaining_retries, stream, stream_cls)\u001b[0m\n\u001b[1;32m    840\u001b[0m         \u001b[0mstream_cls\u001b[0m\u001b[0;34m:\u001b[0m \u001b[0mtype\u001b[0m\u001b[0;34m[\u001b[0m\u001b[0m_StreamT\u001b[0m\u001b[0;34m]\u001b[0m \u001b[0;34m|\u001b[0m \u001b[0;32mNone\u001b[0m \u001b[0;34m=\u001b[0m \u001b[0;32mNone\u001b[0m\u001b[0;34m,\u001b[0m\u001b[0;34m\u001b[0m\u001b[0;34m\u001b[0m\u001b[0m\n\u001b[1;32m    841\u001b[0m     ) -> ResponseT | _StreamT:\n\u001b[0;32m--> 842\u001b[0;31m         return self._request(\n\u001b[0m\u001b[1;32m    843\u001b[0m             \u001b[0mcast_to\u001b[0m\u001b[0;34m=\u001b[0m\u001b[0mcast_to\u001b[0m\u001b[0;34m,\u001b[0m\u001b[0;34m\u001b[0m\u001b[0;34m\u001b[0m\u001b[0m\n\u001b[1;32m    844\u001b[0m             \u001b[0moptions\u001b[0m\u001b[0;34m=\u001b[0m\u001b[0moptions\u001b[0m\u001b[0;34m,\u001b[0m\u001b[0;34m\u001b[0m\u001b[0;34m\u001b[0m\u001b[0m\n",
            "\u001b[0;32m/usr/local/lib/python3.10/dist-packages/openai/_base_client.py\u001b[0m in \u001b[0;36m_request\u001b[0;34m(self, cast_to, options, remaining_retries, stream, stream_cls)\u001b[0m\n\u001b[1;32m    883\u001b[0m             \u001b[0;31m# to completion before attempting to access the response text.\u001b[0m\u001b[0;34m\u001b[0m\u001b[0;34m\u001b[0m\u001b[0m\n\u001b[1;32m    884\u001b[0m             \u001b[0merr\u001b[0m\u001b[0;34m.\u001b[0m\u001b[0mresponse\u001b[0m\u001b[0;34m.\u001b[0m\u001b[0mread\u001b[0m\u001b[0;34m(\u001b[0m\u001b[0;34m)\u001b[0m\u001b[0;34m\u001b[0m\u001b[0;34m\u001b[0m\u001b[0m\n\u001b[0;32m--> 885\u001b[0;31m             \u001b[0;32mraise\u001b[0m \u001b[0mself\u001b[0m\u001b[0;34m.\u001b[0m\u001b[0m_make_status_error_from_response\u001b[0m\u001b[0;34m(\u001b[0m\u001b[0merr\u001b[0m\u001b[0;34m.\u001b[0m\u001b[0mresponse\u001b[0m\u001b[0;34m)\u001b[0m \u001b[0;32mfrom\u001b[0m \u001b[0;32mNone\u001b[0m\u001b[0;34m\u001b[0m\u001b[0;34m\u001b[0m\u001b[0m\n\u001b[0m\u001b[1;32m    886\u001b[0m         \u001b[0;32mexcept\u001b[0m \u001b[0mhttpx\u001b[0m\u001b[0;34m.\u001b[0m\u001b[0mTimeoutException\u001b[0m \u001b[0;32mas\u001b[0m \u001b[0merr\u001b[0m\u001b[0;34m:\u001b[0m\u001b[0;34m\u001b[0m\u001b[0;34m\u001b[0m\u001b[0m\n\u001b[1;32m    887\u001b[0m             \u001b[0;32mif\u001b[0m \u001b[0mretries\u001b[0m \u001b[0;34m>\u001b[0m \u001b[0;36m0\u001b[0m\u001b[0;34m:\u001b[0m\u001b[0;34m\u001b[0m\u001b[0;34m\u001b[0m\u001b[0m\n",
            "\u001b[0;31mBadRequestError\u001b[0m: Error code: 400 - {'error': {'message': \"This model's maximum context length is 4097 tokens, however you requested 9799 tokens (9543 in your prompt; 256 for the completion). Please reduce your prompt; or completion length.\", 'type': 'invalid_request_error', 'param': None, 'code': None}}"
          ]
        }
      ]
    },
    {
      "cell_type": "code",
      "source": [
        "# Installing the 'tiktoken' library using pip, a tool for counting the number of tokens in a text string\n",
        "!pip install tiktoken -q\n"
      ],
      "metadata": {
        "id": "5_0hJvWkH1y5"
      },
      "execution_count": 81,
      "outputs": []
    },
    {
      "cell_type": "code",
      "source": [
        "# Importing the RecursiveCharacterTextSplitter class from the langchain.text_splitter module\n",
        "from langchain.text_splitter import RecursiveCharacterTextSplitter\n",
        "\n",
        "# Creating an instance of RecursiveCharacterTextSplitter with specified chunk size and overlap\n",
        "text_splitter = RecursiveCharacterTextSplitter(chunk_size=2000, chunk_overlap=0)\n",
        "\n",
        "# Splitting the text content from 'result' using the configured text splitter\n",
        "# The 'result' variable is assumed to contain text or document information\n",
        "texts = text_splitter.split_documents(result)\n"
      ],
      "metadata": {
        "id": "cST83-TLGVp_"
      },
      "execution_count": 82,
      "outputs": []
    },
    {
      "cell_type": "code",
      "source": [
        "# Loading a summarization chain with the OpenAI instance 'llm'\n",
        "# The chain_type parameter is set to \"map_reduce\", and verbose is set to True for detailed logging\n",
        "chain = load_summarize_chain(llm, chain_type=\"map_reduce\", verbose=True)\n",
        "\n",
        "# Running the loaded summarization chain on the first four text chunks from 'texts'\n",
        "# The 'texts' variable is assumed to contain a list of text chunks\n",
        "chain.run(texts[:4])\n"
      ],
      "metadata": {
        "colab": {
          "base_uri": "https://localhost:8080/",
          "height": 1000
        },
        "id": "BY0RIT5MG-cn",
        "outputId": "5b11885d-f00c-46e2-d7d3-c6fb484304d2"
      },
      "execution_count": 83,
      "outputs": [
        {
          "output_type": "stream",
          "name": "stdout",
          "text": [
            "\n",
            "\n",
            "\u001b[1m> Entering new MapReduceDocumentsChain chain...\u001b[0m\n",
            "\n",
            "\n",
            "\u001b[1m> Entering new LLMChain chain...\u001b[0m\n",
            "Prompt after formatting:\n",
            "\u001b[32;1m\u001b[1;3mWrite a concise summary of the following:\n",
            "\n",
            "\n",
            "\"hi everyone so this is the first part of the Transformers recitation where we will code from scratch so um this one will be more about the basics of um Transformers and how we code it so that for the future recitations um we can just go over what researchers in the community have done and what the architectures how they change the architectures and their use cases in different fields such as vision and natural language although once this is uh so one of the cool things about Transformers are that they are data agnostic in terms of it could be Vision it could be different parts of it could be the data could be from camera it could be some lidar it could be so many things it could also be multimodal so yeah that's that's the cool part of and this really stems from the fact that you have these self and cross attention blocks so you could join the information uh yeah with that let's begin so before we jump into the code I wanted to um go or something so this is the Transformer that uh Professor has been through that Abu has been through in the last lecture and um I'll not go into the detail of it because that's what happened lecture I will be going into the implementation of how you implement each part um and then link it together um yeah so I'll be coding that while on this uh meeting so I'll be coding some part of it I'll I'll just jump through some other parts of it because they'll either be repeating whatever has happened before or they'll be easy for you guys to implement foreign so I'm I'll not again be going into the detail of this because uh I guess in the poll it was quite clear people don't want to go into the intricacies which is which is understandable so position encodings and self-attention cross retention this this is you've been through multiple times in the lecture but in case you don't remember or you're not sure about it um this is the easiest way of understanding so key and value will always be from the same Source but your query can be from\"\n",
            "\n",
            "\n",
            "CONCISE SUMMARY:\u001b[0m\n",
            "Prompt after formatting:\n",
            "\u001b[32;1m\u001b[1;3mWrite a concise summary of the following:\n",
            "\n",
            "\n",
            "\"different sources so if your query is from the same source as your key and value it's self-attention and if your query is from a different source it's cross attention that's it uh that's what you that's not always true but in most cases it's true and that's that's all you need so um and the reason for that is we I'll explain it during uh the coding session also but just to get it out of the way um the reason for that is because you effectively find trying to find queries which are closest to the sunki and you're taking that projection adding it to the value to find basically the value Which is closest to p Which is closest to the query and that's basically the attention code as well which is this one so you have some query uh you find the projection of the query closest to the key and then you use that to get the final value using the as a weighted sum of these we will come to that so that's one part now let's go to positional encoding part so it's basically your inputs you get an input input I'm embedding and when you add it to the position how does that happen well uh your inputs let's consider your input to be a sentence and in that sentence you'll have words those words could be part of some vocabulary and in that vocabulary you have uh you have the indices or you you can call them well you can think of them as their numbers so each word will have some number and that you use that to create random initial embeddings which will encode the information about the word you add those initial embeddings or those embeddings which we will train over time also we will use those embeddings and uh add the position part to it which is which is what is being done here uh and the way we do it is we have this exponential sign and cosine terms which depend on the position and so um and the interesting part is they are made in such a way that no two words would be unique because of the way this sum has been added that's all you need to know it makes it unique the position of\"\n",
            "\n",
            "\n",
            "CONCISE SUMMARY:\u001b[0m\n",
            "Prompt after formatting:\n",
            "\u001b[32;1m\u001b[1;3mWrite a concise summary of the following:\n",
            "\n",
            "\n",
            "\"each word uh yes so that's one part um okay the other part put the masking so if attended both of us both professor and abu's lecture if you see read the slides you would know that what you're doing is next sentence prediction uh next word prediction sorry uh so so for that you basically need to mask me out mask the input so that you only see The Words which are which which have already been predicted to know so so this Y2 only attends to X1 and X2 X 2 X 3 and all when you reach the last word uh you know you would have seen the words before it this is to prevent um the this is to prevent the network from seeing the next word because it could definitely just see the next quarter it is right so if you see X for a predicted X4 directly um but for the um for the encoder block that's not true so let's look at the architecture this is the same from the uh this is the same as the one that you've seen in the paper so you get your inputs you make input embeddings add the positional encodings you pass it on now here this is the encoder block so in the encoder block you have this first block which is self attention you add uh you you have a script connect and normalization followed by a feed forward Network and again uh one more skip Plus normalization the the thing to note here is the fact that um this block it could be multiple such blocks stacked together that's where this NX comes which is you could have multiple such blocks creating a final encoder so the way we will be coding it is we'll create each module we link those modules to make one decode one encoder block and then we would create the encoder finally by using these encoder blocks now looking at the decoder it's it's quite similar in the uh the notion that once you get the once you get the input you have a self-attention but it's Mass self-attention so your words are only attending to the words that they've already seen and and then you use that um my apologies on this slide yeah and then you use that to\"\n",
            "\n",
            "\n",
            "CONCISE SUMMARY:\u001b[0m\n",
            "Prompt after formatting:\n",
            "\u001b[32;1m\u001b[1;3mWrite a concise summary of the following:\n",
            "\n",
            "\n",
            "\"basically get the queries but this is the part which gets interesting if you see this part it's actually this part it's my life sorry so it's it's actually the same these two the only difference being the keys the way the keys and values uh key value and the query are being passed so in this case the key value and query were the same so this was a self attention block but this is a crosstalk where the queries are coming from the decoder that we already have written and then even value are coming from the encoder so this uh forms one decoder block and we'll have and such decoded blocks to create One D equal that I hope that makes it clear okay uh I won't bore you guys anymore let's jump into the code so okay we'll begin by writing the self-attention block so okay you uh please feel free to speed it up if you feel that I'm going slow this is small for me to write the code because I feel if one is writing there are some small parts which you think you know but uh till the time you really don't write it down you don't quite understand that's how I like to code in one of the videos that I'm reference referring uh to here is one where uh actually a couple of them are where the people actually code it out and that made it made more sense to me so that's how I'll be doing not all of it will be coded I'll be skipping through some parts I'll be using those so okay so I'm creating the self-attention block which is uh this part here right and then it will be multi-headed so you have your values and keys where it is coming in and it will be multi-headed uh so we look at that as well and um yeah I'll be skipping through the visuals also in between so that it's easier to understand what part of the code it is okay so we have your embedding size you will have your heads now the thing to note here is that the input embeddings will be split into equal parts okay and the reason that happens is these these embeddings you'll be passing them to the heads maybe it'll be easier yeah so\"\n",
            "\n",
            "\n",
            "CONCISE SUMMARY:\u001b[0m\n",
            "\n",
            "\u001b[1m> Finished chain.\u001b[0m\n",
            "\n",
            "\n",
            "\u001b[1m> Entering new LLMChain chain...\u001b[0m\n",
            "Prompt after formatting:\n",
            "\u001b[32;1m\u001b[1;3mWrite a concise summary of the following:\n",
            "\n",
            "\n",
            "\" In this Transformers recitation, the basics of Transformers will be covered, such as their data agnostic nature and self and cross attention blocks. It will also go over the implementation of each part and link them together. Position encodings and self-attention cross-retention will be briefly mentioned.\n",
            "\n",
            "\n",
            "\n",
            "In most cases, self-attention is used when the query is from the same source as the key and value, and cross-attention is used when the query is from a different source. To create positional encoding, initial embeddings are created with a numerical index for each word in a vocabulary. This is then combined with an exponential and cosine term which depend on the position of the word, making each word unique.\n",
            "\n",
            " This text discusses the process of next-word prediction, where the input is masked out so the network only sees words which have already been predicted. It also explains the encoder and decoder architecture, which involve self-attention, skip connections, and normalization. Finally, the decoder uses a masked self-attention so that the words only attend to the words they have already seen.\n",
            "\n",
            " This person is writing a self-attention block and crosstalk for a decoder. He will be coding it out and also skipping through some visuals. The input embeddings will be split into equal parts to be passed to the heads.\"\n",
            "\n",
            "\n",
            "CONCISE SUMMARY:\u001b[0m\n",
            "\n",
            "\u001b[1m> Finished chain.\u001b[0m\n",
            "\n",
            "\u001b[1m> Finished chain.\u001b[0m\n"
          ]
        },
        {
          "output_type": "execute_result",
          "data": {
            "text/plain": [
              "' This recitation covers the basics of Transformers, including self-attention and cross-attention blocks, position encodings, and a decoder architecture with self-attention, skip connections, and normalization. The implementation of each part will be coded out and discussed, and the process of next-word prediction and masked self-attention will be looked at.'"
            ],
            "application/vnd.google.colaboratory.intrinsic+json": {
              "type": "string"
            }
          },
          "metadata": {},
          "execution_count": 83
        }
      ]
    },
    {
      "cell_type": "markdown",
      "source": [
        "## 3. Multiple video"
      ],
      "metadata": {
        "id": "SQ1p1lmrJqjr"
      }
    },
    {
      "cell_type": "code",
      "source": [
        "# List of YouTube video URLs to process\n",
        "youtube_url_list = [\"https://www.youtube.com/watch?v=SMZQrJ_L1vo\", \"https://www.youtube.com/watch?v=XowwKOAWYoQ\"]\n",
        "\n",
        "# List to store the extracted text content from YouTube videos\n",
        "texts = []\n",
        "\n",
        "# Creating a RecursiveCharacterTextSplitter instance with specified chunk size and overlap\n",
        "text_splitter = RecursiveCharacterTextSplitter(chunk_size=2000, chunk_overlap=0)\n",
        "\n",
        "# Looping through each YouTube URL in the list\n",
        "for url in youtube_url_list:\n",
        "    # Creating a YoutubeLoader instance and loading information from the YouTube video\n",
        "    # The add_video_info parameter is set to True to include additional video information\n",
        "    loader = YoutubeLoader.from_youtube_url(url, add_video_info=True)\n",
        "    result = loader.load()\n",
        "\n",
        "    # Splitting the text content from the loaded result using the configured text splitter\n",
        "    # and extending the 'texts' list with the extracted text chunks\n",
        "    texts.extend(text_splitter.split_documents(result))\n"
      ],
      "metadata": {
        "id": "ezJ-LT80HrR6"
      },
      "execution_count": 84,
      "outputs": []
    },
    {
      "cell_type": "code",
      "source": [
        "# Loading a summarization chain with the OpenAI instance 'llm'\n",
        "# The chain_type parameter is set to \"map_reduce\", and verbose is set to False for minimal logging\n",
        "chain = load_summarize_chain(llm, chain_type=\"map_reduce\", verbose=False)\n",
        "\n",
        "# Running the loaded summarization chain on the list of text chunks stored in 'texts'\n",
        "# This process involves summarizing the content using the specified summarization model\n",
        "chain.run(texts)\n",
        "\n",
        "# Running the summarization chain on the same list of text chunks again\n",
        "# This is a separate call, and the chain is executed independently for the same set of texts\n",
        "chain.run(texts)\n"
      ],
      "metadata": {
        "colab": {
          "base_uri": "https://localhost:8080/",
          "height": 70
        },
        "id": "KV1JdqBsKvYN",
        "outputId": "f54cf22d-658c-486f-dbe7-2f7d65c076ff"
      },
      "execution_count": 85,
      "outputs": [
        {
          "output_type": "execute_result",
          "data": {
            "text/plain": [
              "' Ashish Vaswani and his coauthors revolutionized deep learning research with their paper “Attention is all you need” by introducing the transformer architecture. This architecture uses stacked self-attention, point-wise fully connected layers, and clever word embeddings to convert words into numbers. It is used for natural language processing tasks and has been proven to have state of the art performance in English to French and English to German translation tasks.'"
            ],
            "application/vnd.google.colaboratory.intrinsic+json": {
              "type": "string"
            }
          },
          "metadata": {},
          "execution_count": 85
        }
      ]
    },
    {
      "cell_type": "code",
      "source": [],
      "metadata": {
        "id": "HN3xQatIK4bt"
      },
      "execution_count": null,
      "outputs": []
    }
  ]
}